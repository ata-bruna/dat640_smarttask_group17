{
 "cells": [
  {
   "cell_type": "markdown",
   "metadata": {},
   "source": [
    "## Elasticsearch indexing\n",
    "\n",
    "- Run this notebook to create the Elasticsearch index\n"
   ]
  },
  {
   "cell_type": "code",
   "execution_count": 1,
   "metadata": {},
   "outputs": [
    {
     "name": "stderr",
     "output_type": "stream",
     "text": [
      "c:\\Users\\bruna\\anaconda3\\envs\\a3\\lib\\site-packages\\elasticsearch\\connection\\base.py:209: ElasticsearchWarning: Elasticsearch built-in security features are not enabled. Without authentication, your cluster could be accessible to anyone. See https://www.elastic.co/guide/en/elasticsearch/reference/7.17/security-minimal-setup.html to enable security.\n",
      "  warnings.warn(message, category=ElasticsearchWarning)\n"
     ]
    },
    {
     "data": {
      "text/plain": [
       "{'name': 'BRUNAPC',\n",
       " 'cluster_name': 'elasticsearch',\n",
       " 'cluster_uuid': '0_kvMIaGRvKEqdk-L5rqcA',\n",
       " 'version': {'number': '7.17.6',\n",
       "  'build_flavor': 'default',\n",
       "  'build_type': 'zip',\n",
       "  'build_hash': 'f65e9d338dc1d07b642e14a27f338990148ee5b6',\n",
       "  'build_date': '2022-08-23T11:08:48.893373482Z',\n",
       "  'build_snapshot': False,\n",
       "  'lucene_version': '8.11.1',\n",
       "  'minimum_wire_compatibility_version': '6.8.0',\n",
       "  'minimum_index_compatibility_version': '6.0.0-beta1'},\n",
       " 'tagline': 'You Know, for Search'}"
      ]
     },
     "execution_count": 1,
     "metadata": {},
     "output_type": "execute_result"
    }
   ],
   "source": [
    "import traceback\n",
    "import elasticsearch\n",
    "import time\n",
    "from elasticsearch import Elasticsearch, helpers\n",
    "\n",
    "es = Elasticsearch()\n",
    "es.info()"
   ]
  },
  {
   "cell_type": "code",
   "execution_count": 2,
   "metadata": {},
   "outputs": [],
   "source": [
    "FIELDS = ['abstract', 'instance']\n",
    "INDEX_NAME = 'dbpedia'\n",
    "INDEX_SETTINGS = {\n",
    "'settings': {\n",
    "        'index': {\n",
    "            'number_of_shards': 1,\n",
    "            'number_of_replicas': 1,\n",
    "\n",
    "            # configure our default similarity algorithm explicitly to use bm25,\n",
    "            # this allows it to use it for all the fields\n",
    "            'similarity': {\n",
    "                'default': {\n",
    "                    'type': 'BM25'\n",
    "                }\n",
    "            }\n",
    "        }\n",
    "    },\n",
    "    'mappings': {\n",
    "            'properties': {\n",
    "                'abstract': {\n",
    "                    'type': 'text',\n",
    "                    'term_vector': 'yes',\n",
    "                    'analyzer': 'english'\n",
    "                },\n",
    "                'instance': {\n",
    "                    'type': 'text',\n",
    "                    'term_vector': 'yes',\n",
    "                    'analyzer': 'english'\n",
    "                }\n",
    "            }\n",
    "        }\n",
    "    }"
   ]
  },
  {
   "cell_type": "code",
   "execution_count": 3,
   "metadata": {},
   "outputs": [
    {
     "name": "stderr",
     "output_type": "stream",
     "text": [
      "c:\\Users\\bruna\\anaconda3\\envs\\a3\\lib\\site-packages\\ipykernel_launcher.py:2: DeprecationWarning: Using positional arguments for APIs is deprecated and will be disabled in 8.0.0. Instead use only keyword arguments for all APIs. See https://github.com/elastic/elasticsearch-py/issues/1698 for more information\n",
      "  \n",
      "c:\\Users\\bruna\\anaconda3\\envs\\a3\\lib\\site-packages\\ipykernel_launcher.py:4: DeprecationWarning: The 'body' parameter is deprecated for the 'create' API and will be removed in 8.0.0. Instead use API parameters directly. See https://github.com/elastic/elasticsearch-py/issues/1698 for more information\n",
      "  after removing the cwd from sys.path.\n"
     ]
    }
   ],
   "source": [
    "def es_create():\n",
    "    if es.indices.exists(INDEX_NAME):\n",
    "        es.indices.delete(index=INDEX_NAME)    \n",
    "    es.indices.create(index=INDEX_NAME, body=INDEX_SETTINGS)\n",
    "\n",
    "es_create()"
   ]
  },
  {
   "cell_type": "markdown",
   "metadata": {},
   "source": [
    "## Data exploration \n",
    "\n",
    "- how the files look like"
   ]
  },
  {
   "cell_type": "code",
   "execution_count": 4,
   "metadata": {},
   "outputs": [],
   "source": [
    "def ttl_reader(filename, size, enc='utf-8'):\n",
    "    \"\"\"\n",
    "    Print the first lines of a ttl file.\n",
    "    \"\"\"\n",
    "    if size <= 0:\n",
    "        print(\"Size must be greater than zero!\")\n",
    "        return\n",
    "\n",
    "    with open(filename, encoding=enc) as f:\n",
    "        for i,line in enumerate(f):\n",
    "            if (size >= 0) and (i >= size+1):\n",
    "                break\n",
    "            if i == 0: # Skip top line.\n",
    "                continue\n",
    "            print(line.strip())"
   ]
  },
  {
   "cell_type": "code",
   "execution_count": 5,
   "metadata": {},
   "outputs": [
    {
     "name": "stdout",
     "output_type": "stream",
     "text": [
      "<http://dbpedia.org/resource/Animalia_(book)> <http://www.w3.org/2000/01/rdf-schema#comment> \"Animalia is an illustrated children's book by Graeme Base. It was originally published in 1986, followed by a tenth anniversary edition in 1996, and a 25th anniversary edition in 2012. Over three million copies have been sold. A special numbered and signed anniversary edition was also published in 1996, with an embossed gold jacket.\"@en .\n",
      "<http://dbpedia.org/resource/Actrius> <http://www.w3.org/2000/01/rdf-schema#comment> \"Actresses (Catalan: Actrius) is a 1997 Catalan language Spanish drama film produced and directed by Ventura Pons and based on the award-winning stage play E.R. by Josep Maria Benet i Jornet. The film has no male actors, with all roles played by females. The film was produced in 1996.\"@en .\n",
      "<http://dbpedia.org/resource/Alain_Connes> <http://www.w3.org/2000/01/rdf-schema#comment> \"Alain Connes (French: [alɛ̃ kɔn]; born 1 April 1947) is a French mathematician, currently Professor at the Collège de France, IHÉS, The Ohio State University and Vanderbilt University. He was an Invited Professor at the Conservatoire national des arts et métiers (2000).\"@en .\n",
      "<http://dbpedia.org/resource/An_American_in_Paris> <http://www.w3.org/2000/01/rdf-schema#comment> \"An American in Paris is a jazz-influenced symphonic poem by the American composer George Gershwin, written in 1928. Inspired by the time Gershwin had spent in Paris, it evokes the sights and energy of the French capital in the 1920s and is one of his best-known compositions.\"@en .\n",
      "<http://dbpedia.org/resource/Astronomer> <http://www.w3.org/2000/01/rdf-schema#comment> \"An astronomer is a scientist in the field of astronomy who concentrates their studies on a specific question or field outside of the scope of Earth. They look at stars, planets, moons, comets and galaxies, as well as many other celestial objects — either in observational astronomy, in analyzing the data or in theoretical astronomy. Examples of topics or fields astronomers work on include: planetary science, solar astronomy, the origin or evolution of stars, or the formation of galaxies. There are also related but distinct subjects like cosmology which studies the Universe as a whole.\"@en .\n"
     ]
    }
   ],
   "source": [
    "ttl_reader(\"mappings/short_abstracts_en.ttl\",5)"
   ]
  },
  {
   "cell_type": "code",
   "execution_count": 6,
   "metadata": {},
   "outputs": [
    {
     "name": "stdout",
     "output_type": "stream",
     "text": [
      "<http://dbpedia.org/resource/Anarchism> <http://www.w3.org/1999/02/22-rdf-syntax-ns#type> <http://www.w3.org/2002/07/owl#Thing> .\n",
      "<http://dbpedia.org/resource/Achilles> <http://www.w3.org/1999/02/22-rdf-syntax-ns#type> <http://www.w3.org/2002/07/owl#Thing> .\n",
      "<http://dbpedia.org/resource/Autism> <http://www.w3.org/1999/02/22-rdf-syntax-ns#type> <http://dbpedia.org/ontology/Disease> .\n",
      "<http://dbpedia.org/resource/Alabama> <http://www.w3.org/1999/02/22-rdf-syntax-ns#type> <http://dbpedia.org/ontology/AdministrativeRegion> .\n",
      "<http://dbpedia.org/resource/Abraham_Lincoln> <http://www.w3.org/1999/02/22-rdf-syntax-ns#type> <http://dbpedia.org/ontology/OfficeHolder> .\n"
     ]
    }
   ],
   "source": [
    "#ttl_reader(\"mappings/short_abstracts_en.ttl\",5)\n",
    "ttl_reader(\"mappings/instance_types_en.ttl\", 5)"
   ]
  },
  {
   "cell_type": "markdown",
   "metadata": {},
   "source": [
    "## Data cleaning"
   ]
  },
  {
   "cell_type": "code",
   "execution_count": 7,
   "metadata": {},
   "outputs": [],
   "source": [
    "from nltk.corpus import stopwords\n",
    "stop_words = stopwords.words('english')\n",
    "question_tags = ['who', 'what', 'when', 'where', 'which', 'whom', 'whose', 'why']\n",
    "stop_words = [word for word in stop_words if word not in question_tags]"
   ]
  },
  {
   "cell_type": "code",
   "execution_count": 8,
   "metadata": {},
   "outputs": [],
   "source": [
    "import re\n",
    "def preprocess_txt(text):\n",
    "    \n",
    "    text = re.sub(r'[^a-zA-Z0-9\\s]', ' ', text).lower()\n",
    "    text = re.sub(' +', ' ', text)\n",
    "    stop_words = stopwords.words('english')\n",
    "    word_list = [word for word in text.split() if word not in stop_words]\n",
    "    text = \" \".join(word_list)\n",
    "    return text\n",
    "\n",
    "\n",
    "def preprocess_abstracts(text):\n",
    "    page_list = re.findall('<.*?>', text)\n",
    "\n",
    "    try:\n",
    "        abstract = re.findall('\\\".*?\\\"', text)[0]\n",
    "        abstract = preprocess_txt(abstract)\n",
    "        entity= page_list[0].split('/')[-1]  #entity\n",
    "        entity= entity[:-1].replace('_', ' ')\n",
    "    except:\n",
    "        abstract = ''\n",
    "        entity = ''\n",
    "\n",
    "    return entity, abstract\n",
    "   \n",
    "\n",
    "def preprocess_entity_type(text):\n",
    "    page_list = re.findall('<.*?>', text)\n",
    "\n",
    "    try: \n",
    "        entity = page_list[0].split('/')[-1][:-1].replace('_', ' ')\n",
    "        entity_type = page_list[-1].split('/')[-1][:-1].replace('owl#', '').replace('_', ' ')\n",
    "        if entity_type=='Thing':\n",
    "            entity_type='owl:Thing'\n",
    "        else:\n",
    "            entity_type='dbo:'+entity_type\n",
    "    except:\n",
    "        entity = ''\n",
    "        entity_type = ''\n",
    "\n",
    "    return entity, entity_type\n",
    "\n",
    "\n",
    "def preprocess_categories(text):\n",
    "    page_list = re.findall('<.*?>', text) \n",
    "    entity = page_list[0].split('/')[-1][:-1]\n",
    "    category = page_list[-1].split('/')[-1][:-1]\n",
    "    category = category.replace('Category:','').replace('_', '')\n",
    "    return entity.replace('_', ' '), category\n",
    "    "
   ]
  },
  {
   "cell_type": "markdown",
   "metadata": {},
   "source": [
    "Declaring parsing functions \n",
    "\n",
    "*NB! Comment out lines 6 and 7 + lines 28 and 29 to parse only a subset of the corpus.*"
   ]
  },
  {
   "cell_type": "code",
   "execution_count": 9,
   "metadata": {},
   "outputs": [],
   "source": [
    "size = 30000\n",
    "def parse_abstracts(data, return_keys=False):   \n",
    "\n",
    "    with open(file=\"mappings\\short_abstracts_en.ttl\", encoding='utf-8') as f:\n",
    "        for i,line in enumerate(f):\n",
    "            # if (size >= 0) and (i >= size+1):\n",
    "            #     break\n",
    "            if i == 0: # Skip top line.\n",
    "                continue\n",
    "            entity, abstract = preprocess_abstracts(line)\n",
    "            \n",
    "            #only abstracts that are not empty\n",
    "            if len(abstract)>0 and len(entity)>0:\n",
    "                data.update({\n",
    "                        entity:{ \n",
    "                        \"_id\": entity,\n",
    "                            \"abstract\": abstract,\n",
    "                            \"instance\":''\n",
    "                        }\n",
    "                        })\n",
    "    if return_keys:                    \n",
    "        return list(data.keys())\n",
    "\n",
    "def parse_entity_type(data):\n",
    "    entity_list = []\n",
    "    with open(file=\"mappings\\instance_types_en.ttl\", encoding='utf-8') as f:\n",
    "        for i,line in enumerate(f):\n",
    "            # if (size >= 0) and (i >= size+1):\n",
    "            #     break\n",
    "            if i == 0: # Skip top line.\n",
    "                continue\n",
    "            entity, entity_type = preprocess_entity_type(line)\n",
    "\n",
    "            if len(entity_type)>0 and len(entity)>0:\n",
    "                entity_list.append(entity)\n",
    "                try:\n",
    "                    previous_entity = data[entity]['instance']\n",
    "                    data[entity]['instance']=entity_type #+ previous_entity\n",
    "                except:\n",
    "                    pass\n",
    "            \n"
   ]
  },
  {
   "cell_type": "code",
   "execution_count": 10,
   "metadata": {},
   "outputs": [],
   "source": [
    "data = {}\n",
    "\n",
    "parse_abstracts(data)\n",
    "parse_entity_type(data)"
   ]
  },
  {
   "cell_type": "code",
   "execution_count": 11,
   "metadata": {},
   "outputs": [
    {
     "name": "stdout",
     "output_type": "stream",
     "text": [
      "Animalia (book):{'_id': 'Animalia (book)', 'abstract': 'animalia illustrated children book graeme base originally published 1986 followed tenth anniversary edition 1996 25th anniversary edition 2012 three million copies sold special numbered signed anniversary edition also published 1996 embossed gold jacket', 'instance': 'dbo:Book'}\n",
      "Actrius:{'_id': 'Actrius', 'abstract': 'actresses catalan actrius 1997 catalan language spanish drama film produced directed ventura pons based award winning stage play e r josep maria benet jornet film male actors roles played females film produced 1996', 'instance': 'dbo:Film'}\n",
      "Alain Connes:{'_id': 'Alain Connes', 'abstract': 'alain connes french al k n born 1 april 1947 french mathematician currently professor coll ge de france ih ohio state university vanderbilt university invited professor conservatoire national des arts et tiers 2000', 'instance': 'dbo:Scientist'}\n",
      "An American in Paris:{'_id': 'An American in Paris', 'abstract': 'american paris jazz influenced symphonic poem american composer george gershwin written 1928 inspired time gershwin spent paris evokes sights energy french capital 1920s one best known compositions', 'instance': 'owl:Thing'}\n",
      "Astronomer:{'_id': 'Astronomer', 'abstract': 'astronomer scientist field astronomy concentrates studies specific question field outside scope earth look stars planets moons comets galaxies well many celestial objects either observational astronomy analyzing data theoretical astronomy examples topics fields astronomers work include planetary science solar astronomy origin evolution stars formation galaxies also related distinct subjects like cosmology studies universe whole', 'instance': 'owl:Thing'}\n"
     ]
    }
   ],
   "source": [
    "# Printing out some results:\n",
    "i=0\n",
    "for k, v in data.items():\n",
    "    print('{}:{}'.format(k, v))\n",
    "    i +=1\n",
    "    if i == 5:\n",
    "        break"
   ]
  },
  {
   "cell_type": "code",
   "execution_count": 14,
   "metadata": {},
   "outputs": [],
   "source": [
    "def del_no_type_entity(data):\n",
    "    \"\"\"Delete dictionary items with no instance type\"\"\"\n",
    "\n",
    "    print(\"Amount of data before deletion: \", len(data))\n",
    "    items = []\n",
    "    for k,v in data.items():\n",
    "        if len(data[k][\"instance\"])==0:\n",
    "            items.append(k)\n",
    "    for i in items:\n",
    "        data.pop(i)\n",
    "    print(\"Amount of data after deletion: \", len(data))"
   ]
  },
  {
   "cell_type": "code",
   "execution_count": 13,
   "metadata": {},
   "outputs": [
    {
     "name": "stdout",
     "output_type": "stream",
     "text": [
      "Amount of data before deletion:  4855261\n",
      "Amount of data after deletion:  3253241\n"
     ]
    }
   ],
   "source": [
    "del_no_type_entity(data)"
   ]
  },
  {
   "cell_type": "markdown",
   "metadata": {},
   "source": [
    "## Indexing"
   ]
  },
  {
   "cell_type": "code",
   "execution_count": 15,
   "metadata": {},
   "outputs": [
    {
     "name": "stderr",
     "output_type": "stream",
     "text": [
      "c:\\Users\\bruna\\anaconda3\\envs\\a3\\lib\\site-packages\\elasticsearch\\connection\\base.py:209: ElasticsearchWarning: Elasticsearch built-in security features are not enabled. Without authentication, your cluster could be accessible to anyone. See https://www.elastic.co/guide/en/elasticsearch/reference/7.17/security-minimal-setup.html to enable security.\n",
      "  warnings.warn(message, category=ElasticsearchWarning)\n"
     ]
    }
   ],
   "source": [
    "batch_size = 20000\n",
    "doc_list = list(data.values())\n",
    "for i in range(0, len(data), batch_size):\n",
    "    actions = [{\n",
    "            \"_index\": INDEX_NAME,\n",
    "            \"_id\": x[\"_id\"],\n",
    "            \"_source\": {\n",
    "                \"abstract\": x[\"abstract\"],\n",
    "                \"instance\": x[\"instance\"]\n",
    "            }\n",
    "        } for x in doc_list[i:i+batch_size]]\n",
    "    helpers.bulk(es, actions, index=INDEX_NAME, raise_on_error=False, raise_on_exception=False)\n"
   ]
  },
  {
   "cell_type": "markdown",
   "metadata": {},
   "source": [
    "## Testing the index"
   ]
  },
  {
   "cell_type": "code",
   "execution_count": 16,
   "metadata": {},
   "outputs": [],
   "source": [
    "search_param={\"match\": {\"instance\": 'dbo:Book'}}"
   ]
  },
  {
   "cell_type": "code",
   "execution_count": 17,
   "metadata": {},
   "outputs": [
    {
     "name": "stdout",
     "output_type": "stream",
     "text": [
      "Files matched 10000\n"
     ]
    }
   ],
   "source": [
    "response = es.search(index=INDEX_NAME, query=search_param)\n",
    "print('Files matched', response['hits']['total']['value'])"
   ]
  },
  {
   "cell_type": "code",
   "execution_count": 18,
   "metadata": {},
   "outputs": [
    {
     "data": {
      "text/plain": [
       "'dbo:Book'"
      ]
     },
     "execution_count": 18,
     "metadata": {},
     "output_type": "execute_result"
    }
   ],
   "source": [
    "response['hits']['hits'][0]['_source']['instance']"
   ]
  }
 ],
 "metadata": {
  "kernelspec": {
   "display_name": "Python 3.7.13 ('a3')",
   "language": "python",
   "name": "python3"
  },
  "language_info": {
   "codemirror_mode": {
    "name": "ipython",
    "version": 3
   },
   "file_extension": ".py",
   "mimetype": "text/x-python",
   "name": "python",
   "nbconvert_exporter": "python",
   "pygments_lexer": "ipython3",
   "version": "3.7.13"
  },
  "orig_nbformat": 4,
  "vscode": {
   "interpreter": {
    "hash": "7c3fc704083c5a2f66ab511598435a3304a41dfd8294cb8f589c06357c907851"
   }
  }
 },
 "nbformat": 4,
 "nbformat_minor": 2
}
